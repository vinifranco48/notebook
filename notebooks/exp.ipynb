{
 "cells": [
  {
   "cell_type": "code",
   "execution_count": 1,
   "metadata": {},
   "outputs": [],
   "source": [
    "from langchain_community.document_loaders import TextLoader\n",
    "from langchain_community.embeddings import HuggingFaceEmbeddings\n",
    "from langchain_community.vectorstores import FAISS\n",
    "from langchain_community.llms import HuggingFaceHub, HuggingFaceEndpoint\n",
    "from langchain_community.document_loaders import UnstructuredPDFLoader\n",
    "from langchain_text_splitters import CharacterTextSplitter\n",
    "from langchain.embeddings import HuggingFaceEmbeddings\n",
    "from langchain.chains.question_answering import load_qa_chain\n",
    "from langchain import HuggingFaceHub\n",
    "from langchain_community.llms import HuggingFaceEndpoint\n",
    "from langchain.document_loaders import UnstructuredPDFLoader\n",
    "from langchain.indexes import VectorstoreIndexCreator\n",
    "from langchain.chains import RetrievalQA\n",
    "from langchain_community.document_loaders import PyPDFLoader\n",
    "import re\n",
    "import textwrap\n"
   ]
  },
  {
   "cell_type": "code",
   "execution_count": 2,
   "metadata": {},
   "outputs": [],
   "source": [
    "from langchain_community.document_loaders import PyPDFLoader\n",
    "\n",
    "# Carregando o arquivo PDF\n",
    "loader = PyPDFLoader('C:\\\\Users\\\\Graúna Motos\\\\Documents\\\\notebook\\\\Manual de Despesas ATUALIZADO (2) - Plan1.pdf')\n",
    "documents = loader.load()"
   ]
  },
  {
   "cell_type": "code",
   "execution_count": 3,
   "metadata": {},
   "outputs": [
    {
     "data": {
      "text/plain": [
       "[Document(metadata={'source': 'C:\\\\Users\\\\Graúna Motos\\\\Documents\\\\notebook\\\\Manual de Despesas ATUALIZADO (2) - Plan1.pdf', 'page': 0}, page_content='MANUAL DE DESPESAS\\nITEM FINANCEIRO/OPERAÇÃO INTERNA/DESPESA TIPOS DE DESPESAS\\nASSISTÊNCIA MÉDICA Saúde do trabalho (ASO, espirometria, etc.)\\nExames, cirurgias, consultas, etc.\\nSessões de psicoterapia\\nCOMBUSTÍVEL VEÍCULOS FUNCIONÁRIOS/PRESTADORESCombustível para veículos de funcionários que não sejam vendedores e para veículos de prestadores de serviços, e que não seja veículos da Graúna.\\nCOMBUSTÍVEIS MOTO 0KM Combustível para MOTOS 0KM\\nCOMBUSTÍVEIS VEÍCULOS PRÓPRIOSCombustivel para Veículos da Graúna ( CAMINHÃO, S-10, etc...)\\nCOMBUSTÍVEIS VENDEDORES Combustível para os Vendedores Graúna \\nCONSERVAÇÃO DE BENS ESTRUTURAMaterial para reforma de prédio\\nMão de obra ref. reforma do prédio\\nServiço de pintura da loja\\nFachada da loja\\nConserto no forro\\nTroca de vaso sanitário\\nTudo que está relacionado a ESTRUTURA da loja \\nFita Isolante para usar na estrutura da loja\\nCONSERVAÇÃO DE BENS OUTROS Manutenção de imobilizado (impressoras, central de ar, computadores, etc.)\\nLâmpadas\\nInterruptores\\nFios\\nLimpeza de climatizador e central de ar\\nRetirada de goteira\\nPlug\\nPino p/tomada\\nInstalação cerca elétrica\\nManutenção de cerca elétrica\\nCompra e instalação de alarme e câmeras\\nConserto de cadeiras\\nPlantas p/jardim'),\n",
       " Document(metadata={'source': 'C:\\\\Users\\\\Graúna Motos\\\\Documents\\\\notebook\\\\Manual de Despesas ATUALIZADO (2) - Plan1.pdf', 'page': 1}, page_content='Despesas que envolvam móveis e utensílios (fogão, geladeira...) e imóvel (prédio, lotes, casas)\\nManutenção caixa d´agua\\nConfiguração IPAD\\nConfecção de capa p/caixa de som\\nRecarga de extintores\\nLimpeza de terrenos ou do quintal da loja\\nConserto de fechaduras\\nCapa para tablet\\nPelícula para tablet\\nDivisórias p/prateleiras\\nCorte de árvores em terrenos da Graúna\\nConserto do lava jato\\nMangueira de incêndio\\nServiço e material para fossa\\nManutenção de Ar Condicionado\\nInstalação de Cortina de Ar\\nManutenção e limpeza de tendas \\nTroca de materiais de sensores da loja \\nLimpeza de Placas Solares \\nLuzes de segurança \\nCURSOS/PALESTRAS/TREINAMENTOSMensalidade curso\\nQualquer despesa com cursos e treinamentos, inclusive LANCHES E REFEIÇÕES\\nCUSTAS CARTÓRIO Reconhecimento de firma\\nAutenticação\\nEscritura\\nProcuração,  (que não seja para veículos seminovos.)\\nCUSTAS PROTESTOS Protesto de títulos\\nCancelamento de protesto'),\n",
       " Document(metadata={'source': 'C:\\\\Users\\\\Graúna Motos\\\\Documents\\\\notebook\\\\Manual de Despesas ATUALIZADO (2) - Plan1.pdf', 'page': 2}, page_content='DESPESA VIAGENS FUNC/CURSO E TREINAMENTODespesas com refeições\\nDespesas com hospedagens\\nDespesas com combustível, etc.\\nQualquer despesa com viagem para participar de curso ou treinamento\\nDESPESA VIAGENS FUNC/PRESTAÇÃO DE SERVIÇODespesas com refeições\\nDespesas com hospedagens\\nDespesas com combustível, etc.\\nQualquer despesa de viagem cuja finalidade não seja participar de curso/treinamento\\nDespesas de viagem de auditor\\nDESPESAS COM EVENTOS/CONFRATERNIZAÇÃOTodas as despesas com eventos, sejam eles realizados pela Graúna ou não\\nCafé da manhã ref. aniversário da loja\\nLançamento de algum modelo de motocicleta\\nJantar de metas\\nFesta juninaTodas as despesas ref. aos eventos: dia das crianças, dia dos pais, dia das mães, dia da mulher, etc., inclusive os presentes. ISSO SE OCORRER ALGUMA COMEMORAÇÃO. CASO ENTREGUE SÓ O PRESENTE, LANÇAR COMO DOAÇÃO\\nFesta de confraternização no final do ano\\nLanches para comemorar ANIVERSÁRIOS\\nComemoração dia do mecânico\\nViagens relacionadas a campanhas com vendedores (metas)\\nDespesas em rallys, enduros...\\nDespesas com arrancadão, etc.\\nDESPESAS COM SEMIRREBOQUE Despesas com manutenção da carrocinha (semirreboque)\\nDESPESAS SERVIÇO DE GRÁFICA Confecção de blocos de recibo\\nBlocos de O.S.\\nCapas de processos\\nBlocos de requisição\\nAdesivos\\nEtiquetas\\nCarimbos\\nCrachás\\nCartões de visita\\nDOAÇÕES Presentes para funcionários (aniversário, casamento, nascimento de filho, etc.)'),\n",
       " Document(metadata={'source': 'C:\\\\Users\\\\Graúna Motos\\\\Documents\\\\notebook\\\\Manual de Despesas ATUALIZADO (2) - Plan1.pdf', 'page': 3}, page_content='Chocolates de Páscoa\\nCestas de NatalPresentes ref. dia da mulher, dia das mães, dia dos pais (caso não seja feito café da manhã, ou seja, se apenas entregar o presente sem nenhuma festinha p/comemorar, deve ser lançado como doação)\\nDoações onde não haverá divulgação do nome da Graúna\\nDoações de Adesivos para campanhas; Ex: ( Sindrome de Down, Autismo, etc...)\\nDoações de Cestas Básicas \\nAção de Aniversariante Lar São Vicente \\nEMPLACAMENTOS Emplacamento de veículos da Graúna\\nINFORMÁTICA MATERIAL Baterias\\nTeclado, mouse\\nToner, cartucho\\nCabo p/impressora\\nPlaca\\nMemória / Nobreak\\nFiltro de linha\\nCarregador p/tablet\\nFone de ouvido (headset)\\nMousepad\\nPen drive\\nLeitor de código de barras\\nSwitch\\nHD\\nLANCHES E REFEIÇÕES Lanches para REUNIÕES de metas \\nAlmoço ou janta para funcionários durante horário de almoço ou após expediente\\nRefeições p/funcionários que participaram de ações de vendas, etc.\\nMANUTENÇÃO DE EQUIPAMENTOSMaterial e mão de obra ref. manutenção dos equipamentos da Oficina (compressor, rampa, box de lavagem, etc.)\\nAferição de ferramentas'),\n",
       " Document(metadata={'source': 'C:\\\\Users\\\\Graúna Motos\\\\Documents\\\\notebook\\\\Manual de Despesas ATUALIZADO (2) - Plan1.pdf', 'page': 4}, page_content='Manutenção de Rampa da Oficina \\nMANUTENÇÃO DE VEÍCULOS Mão de obra ref. manutenção dos veículos\\nMATERIAL CANTINA Café\\nAçúcar\\nCopos descartáveis\\nChás\\nGás\\nGarrafa para café\\nBandeja\\nCaneca para fazer café\\nChama para fogão\\nTudo o que for para a cantina\\nMATERIAL DE ESCRITÓRIO Papel A4\\nClips\\nGrampos\\nGrampeador\\nLiga\\nCaneta, marca texto, régua, borracha, lápis, grafite\\nPerfurador\\nExtrator de grampo\\nCalculadoras\\nCaixas p/arquivo morto\\nBobina p/ impressora fiscal, maquinetas de cartão e para máquina do ponto\\nLivro protocolo\\nPastas\\nAdesivos para decalque \\nMATERIAL DE LIMPEZA E HIGIENE Sabão\\nDetergente\\nÁgua sanitária\\nPapel toalha'),\n",
       " Document(metadata={'source': 'C:\\\\Users\\\\Graúna Motos\\\\Documents\\\\notebook\\\\Manual de Despesas ATUALIZADO (2) - Plan1.pdf', 'page': 5}, page_content='Papel higiênico\\nFlanelas\\nSacos de lixo\\nEspanador\\nVassoura\\nÁlcool em gel/liquido \\nTudo o que estiver relacionado a limpeza e higiene\\nAbsorvente\\nCreme dental\\nFio dental\\nMATERIAL DE USO OU CONSUMO Materiais para uso na Oficina que não tenham NF (gasolina, espuma, etc.) = MATERIAL OFICINA\\n(Item Financeiro)\\nMATERIAL DE USO OU CONSUMO ADMSacolas\\n(Item Financeiro) Lixeira/ BALDE\\nTelefone\\nTapetes\\nCadeado\\nBom ar\\nCorda\\nVeneno para rato\\nÁgua\\nMateriais para arcos e balões\\nFita adesiva\\nPilhas\\nChips\\nBarbante\\nParafusos\\nBota de segurança\\nQuadro branco\\nMaterial p/ornamentação de natal/ festa junina/ carnaval \\nLivros\\nGarrafões\\nCinta/catraca p/amarrar motos\\nMaterial p/estação de tratamento de água'),\n",
       " Document(metadata={'source': 'C:\\\\Users\\\\Graúna Motos\\\\Documents\\\\notebook\\\\Manual de Despesas ATUALIZADO (2) - Plan1.pdf', 'page': 6}, page_content=\"Cortina p/lava jato\\nBateria p/telefone\\nInseticida\\nJogo de cama\\nCanivete\\nJarra p/Oficina\\nAlicate\\nBobinas c/logo da Honda\\nventilador  \\nControle de ar condicionado\\nTrena Métrica\\nMATERIAL DE USO E CONSUMO NF's de uso ou consumo, onde o PRODUTO é o nome da despesa (exemplos: MATERIAL CANTINA, DESPESA VEÍCULO S10..., COMBUSTÍVEL VENDEDORES, ETC.)\\n(Operação Interna)\\nMATERIAL PROMOCIONAL Chaveiros\\nCarteira despachante\\nBonés\\nCamisetas\\nOUTROS CUSTOS/DESPESAS SEMINOVOSProcuração para moto seminova \\nPagamento IPVA moto Seminova(Caso não tenha sido descontado na compra do veículo)\\nPATROCÍNIO Patrocínio onde o nome da loja será divulgado\\nEnduros\\nRallys\\nPatrocínio de camisetas\\nVaquejadas\\nTrilhas\"),\n",
       " Document(metadata={'source': 'C:\\\\Users\\\\Graúna Motos\\\\Documents\\\\notebook\\\\Manual de Despesas ATUALIZADO (2) - Plan1.pdf', 'page': 7}, page_content=\"Cavalgadas\\nCamisetas p/funcionários participarem de Enduro\\nPLANO DE SAÚDE Plano de saúde dos diretores\\nPRESTAÇÃO DE SERVIÇO - PESSOA FÍSICAQualquer serviço prestado por pessoa física\\nLimpeza da loja\\nTroca de moedas\\nDiárias de vigilância\\nPainel p/entrega de motos\\nCarro pipa\\nPRESTAÇÃO DE SERVIÇOS - PESSOA JURÍDICACefor\\nServiço de Monitoramento de Frota \\nPintura de motos\\nServiço de ornamentação\\nReparo em pneus\\nLimpeza da fossa\\nDiárias viagens\\nSegurança do trabalho\\nMy Honda\\nServiço de solda\\nRenovação certificado digital.\\nConfecção de certificados ref. Curso\\nPainel p/entrega de motos\\nPROMOÇÃO Emplacamentos\\nDesconto na 1º parcela de cotas CNH\\nBrindes ref. promoções do setor de Peças ou Oficina\\nPROPAGANDA E PUBLICIDADE Publicidade em TV's, Rádios, carros de som, etc.\\nConfecção de panfletos\\nMaterial para confecção de faixas\\nLocução em Enduros\\nDivulgação Instagram \"),\n",
       " Document(metadata={'source': 'C:\\\\Users\\\\Graúna Motos\\\\Documents\\\\notebook\\\\Manual de Despesas ATUALIZADO (2) - Plan1.pdf', 'page': 8}, page_content=\"SEGURANÇA PATRIMONIAL Norte Sul (segurança armada)\\nSERVIÇO DE MONITORAMENTO ELETRÔNICONF ref. sistema de alarme\\nMonitoramento (adesão, mensalidade)\\nSERVIÇO SOFTWARE Sisand\\nTriad Projetos e Consultoria (Sistema de gestão de compras - peças)\\nAO3 Tecnologia (Pacote folha de pagamento)\\nSociety Inf. Comercial (Antivirus anual)\\nRota leste Informática (Dominio de email @graunamotos)\\nFD marketing (Chat Guru)\\nAcesso Digital Tecnologia (Vianuvem)\\nPitom84 (Sistema Piton)\\nPlaynee Tecnologia (CRM)\\nALN Informática (Serviços prestados TEF)\\nLumion Tecnologia Ltda (Serviço de filtro de conteúdo)\\nSistema de Ponto WEB\\nTAXA BOLETO NÃO UTILIZAR\\nTAXAS E IMPOSTOS Taxas contas telefone\\nMultas Detran\\nCREA\\nSEFAZ\\nReceita Federal\\nTaxas ref. certidões\\nTAXAS TRANSFERÊNCIAS SEMINOVOSTaxas das motos usadas (IPVA, licenciamento, etc.)\\nTELEFONIA E INTERNET NF's provedores\\nCrédito p/celular de funcionário p/usar a internet\\nE-Hosting (hospedagem de domínio)\\nAppmake (adm. de redes sociais)\"),\n",
       " Document(metadata={'source': 'C:\\\\Users\\\\Graúna Motos\\\\Documents\\\\notebook\\\\Manual de Despesas ATUALIZADO (2) - Plan1.pdf', 'page': 9}, page_content='USO E CONSUMO OFICINA Tudo que entra diretamente nos custos de despsas com a prestação de serviço da oficina \\nCompra de gasolina para testes na oficina \\nEspuma para lavagem das motocicletas (caso não haja nota fiscal)'),\n",
       " Document(metadata={'source': 'C:\\\\Users\\\\Graúna Motos\\\\Documents\\\\notebook\\\\Manual de Despesas ATUALIZADO (2) - Plan1.pdf', 'page': 10}, page_content=''),\n",
       " Document(metadata={'source': 'C:\\\\Users\\\\Graúna Motos\\\\Documents\\\\notebook\\\\Manual de Despesas ATUALIZADO (2) - Plan1.pdf', 'page': 11}, page_content=''),\n",
       " Document(metadata={'source': 'C:\\\\Users\\\\Graúna Motos\\\\Documents\\\\notebook\\\\Manual de Despesas ATUALIZADO (2) - Plan1.pdf', 'page': 12}, page_content=''),\n",
       " Document(metadata={'source': 'C:\\\\Users\\\\Graúna Motos\\\\Documents\\\\notebook\\\\Manual de Despesas ATUALIZADO (2) - Plan1.pdf', 'page': 13}, page_content=''),\n",
       " Document(metadata={'source': 'C:\\\\Users\\\\Graúna Motos\\\\Documents\\\\notebook\\\\Manual de Despesas ATUALIZADO (2) - Plan1.pdf', 'page': 14}, page_content=''),\n",
       " Document(metadata={'source': 'C:\\\\Users\\\\Graúna Motos\\\\Documents\\\\notebook\\\\Manual de Despesas ATUALIZADO (2) - Plan1.pdf', 'page': 15}, page_content=''),\n",
       " Document(metadata={'source': 'C:\\\\Users\\\\Graúna Motos\\\\Documents\\\\notebook\\\\Manual de Despesas ATUALIZADO (2) - Plan1.pdf', 'page': 16}, page_content=''),\n",
       " Document(metadata={'source': 'C:\\\\Users\\\\Graúna Motos\\\\Documents\\\\notebook\\\\Manual de Despesas ATUALIZADO (2) - Plan1.pdf', 'page': 17}, page_content=''),\n",
       " Document(metadata={'source': 'C:\\\\Users\\\\Graúna Motos\\\\Documents\\\\notebook\\\\Manual de Despesas ATUALIZADO (2) - Plan1.pdf', 'page': 18}, page_content=''),\n",
       " Document(metadata={'source': 'C:\\\\Users\\\\Graúna Motos\\\\Documents\\\\notebook\\\\Manual de Despesas ATUALIZADO (2) - Plan1.pdf', 'page': 19}, page_content='')]"
      ]
     },
     "execution_count": 3,
     "metadata": {},
     "output_type": "execute_result"
    }
   ],
   "source": [
    "documents"
   ]
  },
  {
   "cell_type": "code",
   "execution_count": 4,
   "metadata": {},
   "outputs": [],
   "source": [
    "def wrap_text_preserve_newlines(text, width=110):\n",
    "    # split o texto em linhas baseado em caracteres de nova linha\n",
    "    lines = text.split('\\n')\n",
    "\n",
    "    # envolve cada linha individualmente \n",
    "    wrapped_lines = [textwrap.fill(line, width=width) for line in lines]\n",
    "\n",
    "    # junta as linhas envolvidas de volta usando caracteres de nova linha\n",
    "    wrapped_text = '\\n'.join(wrapped_lines)\n",
    "\n",
    "    \n",
    "\n",
    "    return wrapped_text"
   ]
  },
  {
   "cell_type": "code",
   "execution_count": 5,
   "metadata": {},
   "outputs": [
    {
     "name": "stdout",
     "output_type": "stream",
     "text": [
      "page_content='Despesas que envolvam móveis e utensílios (fogão, geladeira...) e imóvel (prédio, lotes, casas)\n",
      "Manutenção caixa d´agua\n",
      "Configuração IPAD\n",
      "Confecção de capa p/caixa de som\n",
      "Recarga de extintores\n",
      "Limpeza de terrenos ou do quintal da loja\n",
      "Conserto de fechaduras\n",
      "Capa para tablet\n",
      "Película para tablet\n",
      "Divisórias p/prateleiras\n",
      "Corte de árvores em terrenos da Graúna\n",
      "Conserto do lava jato\n",
      "Mangueira de incêndio\n",
      "Serviço e material para fossa\n",
      "Manutenção de Ar Condicionado\n",
      "Instalação de Cortina de Ar\n",
      "Manutenção e limpeza de tendas\n",
      "Troca de materiais de sensores da loja\n",
      "Limpeza de Placas Solares\n",
      "Luzes de segurança\n",
      "CURSOS/PALESTRAS/TREINAMENTOSMensalidade curso\n",
      "Qualquer despesa com cursos e treinamentos, inclusive LANCHES E REFEIÇÕES\n",
      "CUSTAS CARTÓRIO Reconhecimento de firma\n",
      "Autenticação\n",
      "Escritura\n",
      "Procuração,  (que não seja para veículos seminovos.)\n",
      "CUSTAS PROTESTOS Protesto de títulos\n",
      "Cancelamento de protesto' metadata={'source': 'C:\\\\Users\\\\Graúna Motos\\\\Documents\\\\notebook\\\\Manual de\n",
      "Despesas ATUALIZADO (2) - Plan1.pdf', 'page': 1}\n"
     ]
    }
   ],
   "source": [
    "print(wrap_text_preserve_newlines(str(documents[1])))"
   ]
  },
  {
   "cell_type": "code",
   "execution_count": 21,
   "metadata": {},
   "outputs": [
    {
     "name": "stdout",
     "output_type": "stream",
     "text": [
      "Número de chunks: 13\n",
      "\n",
      "Chunk 1 - Tamanho: 997 caracteres\n",
      "\n",
      "Chunk 2 - Tamanho: 216 caracteres\n",
      "\n",
      "Chunk 3 - Tamanho: 909 caracteres\n",
      "\n",
      "Chunk 4 - Tamanho: 955 caracteres\n",
      "\n",
      "Chunk 5 - Tamanho: 450 caracteres\n",
      "\n",
      "Chunk 6 - Tamanho: 895 caracteres\n",
      "\n",
      "Chunk 7 - Tamanho: 158 caracteres\n",
      "\n",
      "Chunk 8 - Tamanho: 625 caracteres\n",
      "\n",
      "Chunk 9 - Tamanho: 687 caracteres\n",
      "\n",
      "Chunk 10 - Tamanho: 689 caracteres\n",
      "\n",
      "Chunk 11 - Tamanho: 867 caracteres\n",
      "\n",
      "Chunk 12 - Tamanho: 967 caracteres\n",
      "\n",
      "Chunk 13 - Tamanho: 217 caracteres\n"
     ]
    }
   ],
   "source": [
    "from langchain.text_splitter import CharacterTextSplitter\n",
    "\n",
    "text_splitter = CharacterTextSplitter(\n",
    "    chunk_size=1000,  # Reduzido de 1000 para 500\n",
    "    chunk_overlap=10,  # Adicionado um pequeno overlap para manter contexto\n",
    "    separator=\"\\n\",\n",
    "    length_function=len\n",
    ")\n",
    "docs = text_splitter.split_documents(documents)\n",
    "\n",
    "# Verificar o número de chunks\n",
    "print(f\"Número de chunks: {len(docs)}\")\n",
    "\n",
    "# Opcional: visualizar o tamanho de cada chunk\n",
    "for i, doc in enumerate(docs):\n",
    "    print(f\"\\nChunk {i+1} - Tamanho: {len(doc.page_content)} caracteres\")"
   ]
  },
  {
   "cell_type": "code",
   "execution_count": 16,
   "metadata": {},
   "outputs": [
    {
     "name": "stdout",
     "output_type": "stream",
     "text": [
      "page_content='MANUAL DE DESPESAS\n",
      "ITEM FINANCEIRO/OPERAÇÃO INTERNA/DESPESA TIPOS DE DESPESAS\n",
      "ASSISTÊNCIA MÉDICA Saúde do trabalho (ASO, espirometria, etc.)\n",
      "Exames, cirurgias, consultas, etc.\n",
      "Sessões de psicoterapia\n",
      "COMBUSTÍVEL VEÍCULOS FUNCIONÁRIOS/PRESTADORESCombustível para veículos de funcionários que não sejam vendedores e para veículos de prestadores de serviços, e que não seja veículos da Graúna.\n",
      "COMBUSTÍVEIS MOTO 0KM Combustível para MOTOS 0KM\n",
      "COMBUSTÍVEIS VEÍCULOS PRÓPRIOSCombustivel para Veículos da Graúna ( CAMINHÃO, S-10, etc...)\n",
      "COMBUSTÍVEIS VENDEDORES Combustível para os Vendedores Graúna \n",
      "CONSERVAÇÃO DE BENS ESTRUTURAMaterial para reforma de prédio\n",
      "Mão de obra ref. reforma do prédio\n",
      "Serviço de pintura da loja\n",
      "Fachada da loja\n",
      "Conserto no forro\n",
      "Troca de vaso sanitário\n",
      "Tudo que está relacionado a ESTRUTURA da loja \n",
      "Fita Isolante para usar na estrutura da loja\n",
      "CONSERVAÇÃO DE BENS OUTROS Manutenção de imobilizado (impressoras, central de ar, computadores, etc.)\n",
      "Lâmpadas\n",
      "Interruptores\n",
      "Fios' metadata={'source': 'C:\\\\Users\\\\Graúna Motos\\\\Documents\\\\notebook\\\\Manual de Despesas ATUALIZADO (2) - Plan1.pdf', 'page': 0}\n"
     ]
    }
   ],
   "source": [
    "print(docs[0])"
   ]
  },
  {
   "cell_type": "code",
   "execution_count": 17,
   "metadata": {},
   "outputs": [
    {
     "name": "stderr",
     "output_type": "stream",
     "text": [
      "C:\\Users\\Graúna Motos\\AppData\\Local\\Temp\\ipykernel_16236\\3655315981.py:1: LangChainDeprecationWarning: Default values for HuggingFaceEmbeddings.model_name were deprecated in LangChain 0.2.16 and will be removed in 0.4.0. Explicitly pass a model_name to the HuggingFaceEmbeddings constructor instead.\n",
      "  embeddings = HuggingFaceEmbeddings()\n"
     ]
    }
   ],
   "source": [
    "embeddings = HuggingFaceEmbeddings()"
   ]
  },
  {
   "cell_type": "code",
   "execution_count": 22,
   "metadata": {},
   "outputs": [],
   "source": [
    "db = FAISS.from_documents(docs, embeddings)"
   ]
  },
  {
   "cell_type": "code",
   "execution_count": 23,
   "metadata": {},
   "outputs": [],
   "source": [
    "query = \"ASSISTÊNCIA MÉDICA?\"\n",
    "docs = db.similarity_search(query)"
   ]
  },
  {
   "cell_type": "code",
   "execution_count": 24,
   "metadata": {},
   "outputs": [
    {
     "name": "stdout",
     "output_type": "stream",
     "text": [
      "MANUAL DE DESPESAS\n",
      "ITEM FINANCEIRO/OPERAÇÃO INTERNA/DESPESA TIPOS DE DESPESAS\n",
      "ASSISTÊNCIA MÉDICA Saúde do trabalho (ASO, espirometria, etc.)\n",
      "Exames, cirurgias, consultas, etc.\n",
      "Sessões de psicoterapia\n",
      "COMBUSTÍVEL VEÍCULOS FUNCIONÁRIOS/PRESTADORESCombustível para veículos de funcionários que não sejam\n",
      "vendedores e para veículos de prestadores de serviços, e que não seja veículos da Graúna.\n",
      "COMBUSTÍVEIS MOTO 0KM Combustível para MOTOS 0KM\n",
      "COMBUSTÍVEIS VEÍCULOS PRÓPRIOSCombustivel para Veículos da Graúna ( CAMINHÃO, S-10, etc...)\n",
      "COMBUSTÍVEIS VENDEDORES Combustível para os Vendedores Graúna\n",
      "CONSERVAÇÃO DE BENS ESTRUTURAMaterial para reforma de prédio\n",
      "Mão de obra ref. reforma do prédio\n",
      "Serviço de pintura da loja\n",
      "Fachada da loja\n",
      "Conserto no forro\n",
      "Troca de vaso sanitário\n",
      "Tudo que está relacionado a ESTRUTURA da loja\n",
      "Fita Isolante para usar na estrutura da loja\n",
      "CONSERVAÇÃO DE BENS OUTROS Manutenção de imobilizado (impressoras, central de ar, computadores, etc.)\n",
      "Lâmpadas\n",
      "Interruptores\n",
      "Fios\n"
     ]
    }
   ],
   "source": [
    "print(wrap_text_preserve_newlines(str(docs[0].page_content)))"
   ]
  },
  {
   "cell_type": "code",
   "execution_count": 25,
   "metadata": {},
   "outputs": [],
   "source": [
    "from langchain_groq import ChatGroq\n",
    "\n",
    "llm = ChatGroq(\n",
    "    api_key=\"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\",\n",
    "    model_name=\"llama3-70b-8192\"\n",
    ")\n"
   ]
  },
  {
   "cell_type": "code",
   "execution_count": 26,
   "metadata": {},
   "outputs": [
    {
     "name": "stderr",
     "output_type": "stream",
     "text": [
      "C:\\Users\\Graúna Motos\\AppData\\Local\\Temp\\ipykernel_16236\\1148363849.py:1: LangChainDeprecationWarning: This class is deprecated. See the following migration guides for replacements based on `chain_type`:\n",
      "stuff: https://python.langchain.com/docs/versions/migrating_chains/stuff_docs_chain\n",
      "map_reduce: https://python.langchain.com/docs/versions/migrating_chains/map_reduce_chain\n",
      "refine: https://python.langchain.com/docs/versions/migrating_chains/refine_chain\n",
      "map_rerank: https://python.langchain.com/docs/versions/migrating_chains/map_rerank_docs_chain\n",
      "\n",
      "See also guides on retrieval and question-answering here: https://python.langchain.com/docs/how_to/#qa-with-rag\n",
      "  chain = load_qa_chain(llm, chain_type=\"stuff\")\n"
     ]
    }
   ],
   "source": [
    "chain = load_qa_chain(llm, chain_type=\"stuff\")"
   ]
  },
  {
   "cell_type": "code",
   "execution_count": 27,
   "metadata": {},
   "outputs": [
    {
     "name": "stderr",
     "output_type": "stream",
     "text": [
      "C:\\Users\\Graúna Motos\\AppData\\Local\\Temp\\ipykernel_16236\\3813654236.py:3: LangChainDeprecationWarning: The method `Chain.run` was deprecated in langchain 0.1.0 and will be removed in 1.0. Use :meth:`~invoke` instead.\n",
      "  chain.run(input_documents=docs, question=query)\n"
     ]
    },
    {
     "data": {
      "text/plain": [
       "'According to the manual, \"ASSISTÊNCIA MÉDICA\" refers to the following types of expenses:\\n\\n* Saúde do trabalho (ASO, espirometria, etc.)\\n* Exames, cirurgias, consultas, etc.\\n* Sessões de psicoterapia'"
      ]
     },
     "execution_count": 27,
     "metadata": {},
     "output_type": "execute_result"
    }
   ],
   "source": [
    "query = \"ASSISTÊNCIA MÉDICA?\"\n",
    "docs = db.similarity_search(query)\n",
    "chain.run(input_documents=docs, question=query)"
   ]
  }
 ],
 "metadata": {
  "kernelspec": {
   "display_name": ".venv",
   "language": "python",
   "name": "python3"
  },
  "language_info": {
   "codemirror_mode": {
    "name": "ipython",
    "version": 3
   },
   "file_extension": ".py",
   "mimetype": "text/x-python",
   "name": "python",
   "nbconvert_exporter": "python",
   "pygments_lexer": "ipython3",
   "version": "3.11.9"
  }
 },
 "nbformat": 4,
 "nbformat_minor": 2
}
